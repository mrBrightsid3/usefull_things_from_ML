{
 "cells": [
  {
   "cell_type": "code",
   "execution_count": 4,
   "metadata": {},
   "outputs": [],
   "source": [
    "import pickle\n",
    "import re\n",
    "import os\n",
    "from vectorizer import vect\n",
    "import sqlite3\n",
    "clf = pickle.load(open(os.path.join(\n",
    "    'pkl_objects', 'classifier.pkl'), 'rb'))#загрузили сохраненную модель"
   ]
  },
  {
   "cell_type": "code",
   "execution_count": 2,
   "metadata": {},
   "outputs": [
    {
     "name": "stdout",
     "output_type": "stream",
     "text": [
      "Прогноз : позитивный \n",
      "Вероятность : 0.955604224948837\n"
     ]
    }
   ],
   "source": [
    "import numpy as np\n",
    "label = {0:'негативный', 1:'позитивный'}\n",
    "\n",
    "example = [\"I love this movie, its amazing.\"]\n",
    "X = vect.transform(example)\n",
    "print(f'Прогноз : {label[clf.predict(X)[0]]} \\nВероятность : {np.max(clf.predict_proba(X))}')"
   ]
  },
  {
   "cell_type": "code",
   "execution_count": 5,
   "metadata": {},
   "outputs": [],
   "source": [
    "\n",
    "conn = sqlite3.connect('reviews.sqlite')\n",
    "c = conn.cursor()\n",
    "c.execute('DROP TABLE IF EXISTS review_db')\n",
    "c.execute('CREATE TABLE review_db'\\\n",
    "          ' (review TEXT, sentiment INTEGER, date TEXT)')\n",
    "example1 = 'I loved this movie'\n",
    "c.execute('INSERT INTO review_db'\\\n",
    "          ' (review, sentiment, date) VALUES'\\\n",
    "            '(?, ?, DATETIME(\"now\"))', (example1, 1))\n",
    "example2 = 'I disliked this movie'\n",
    "c.execute('INSERT INTO review_db'\\\n",
    "          ' (review, sentiment, date) VALUES'\\\n",
    "            '(?, ?, DATETIME(\"now\"))', (example2, 0))\n",
    "conn.commit()\n",
    "conn.close()"
   ]
  },
  {
   "cell_type": "code",
   "execution_count": 5,
   "metadata": {},
   "outputs": [
    {
     "name": "stdout",
     "output_type": "stream",
     "text": [
      "[('I loved this movie', 1, '2023-09-29 11:25:36'), ('I disliked this movie', 0, '2023-09-29 11:25:36')]\n"
     ]
    }
   ],
   "source": [
    "conn = sqlite3.connect('reviews.sqlite')\n",
    "c = conn.cursor()\n",
    "c.execute(\"SELECT * FROM review_db WHERE date\"\\\n",
    "          \" BETWEEN '2017-01-01 00:00:00' AND DATETIME('NOW')\")\n",
    "results = c.fetchall()\n",
    "conn.close()\n",
    "print(results)"
   ]
  },
  {
   "cell_type": "code",
   "execution_count": null,
   "metadata": {},
   "outputs": [],
   "source": [
    "\n"
   ]
  }
 ],
 "metadata": {
  "kernelspec": {
   "display_name": "Python 3",
   "language": "python",
   "name": "python3"
  },
  "language_info": {
   "codemirror_mode": {
    "name": "ipython",
    "version": 3
   },
   "file_extension": ".py",
   "mimetype": "text/x-python",
   "name": "python",
   "nbconvert_exporter": "python",
   "pygments_lexer": "ipython3",
   "version": "3.11.2"
  },
  "orig_nbformat": 4
 },
 "nbformat": 4,
 "nbformat_minor": 2
}
